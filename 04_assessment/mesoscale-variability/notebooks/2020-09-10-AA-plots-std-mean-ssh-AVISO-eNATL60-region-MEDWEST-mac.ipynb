{
 "cells": [
  {
   "cell_type": "markdown",
   "metadata": {},
   "source": [
    "# Maps of RMSSSH"
   ]
  },
  {
   "cell_type": "code",
   "execution_count": 1,
   "metadata": {},
   "outputs": [
    {
     "name": "stderr",
     "output_type": "stream",
     "text": [
      "/Users/auraoupa/anaconda2/envs/pangeo-cloud/lib/python3.6/site-packages/dask/config.py:168: YAMLLoadWarning: calling yaml.load() without Loader=... is deprecated, as the default Loader is unsafe. Please read https://msg.pyyaml.org/load for full details.\n",
      "  data = yaml.load(f.read()) or {}\n"
     ]
    },
    {
     "data": {
      "text/html": [
       "<table style=\"border: 2px solid white;\">\n",
       "<tr>\n",
       "<td style=\"vertical-align: top; border: 0px solid white\">\n",
       "<h3>Client</h3>\n",
       "<ul>\n",
       "  <li><b>Scheduler: </b>tcp://127.0.0.1:53326\n",
       "  <li><b>Dashboard: </b><a href='http://127.0.0.1:8787/status' target='_blank'>http://127.0.0.1:8787/status</a>\n",
       "</ul>\n",
       "</td>\n",
       "<td style=\"vertical-align: top; border: 0px solid white\">\n",
       "<h3>Cluster</h3>\n",
       "<ul>\n",
       "  <li><b>Workers: </b>4</li>\n",
       "  <li><b>Cores: </b>8</li>\n",
       "  <li><b>Memory: </b>17.18 GB</li>\n",
       "</ul>\n",
       "</td>\n",
       "</tr>\n",
       "</table>"
      ],
      "text/plain": [
       "<Client: scheduler='tcp://127.0.0.1:53326' processes=4 cores=8>"
      ]
     },
     "execution_count": 1,
     "metadata": {},
     "output_type": "execute_result"
    }
   ],
   "source": [
    "import dask\n",
    "import dask.threaded\n",
    "import dask.multiprocessing\n",
    "from dask.distributed import Client\n",
    "\n",
    "c = Client()\n",
    "c"
   ]
  },
  {
   "cell_type": "markdown",
   "metadata": {},
   "source": [
    "## 0. Modules and libraries"
   ]
  },
  {
   "cell_type": "code",
   "execution_count": 2,
   "metadata": {},
   "outputs": [],
   "source": [
    "import warnings\n",
    "warnings.filterwarnings(\"ignore\")\n",
    "import os \n",
    "import time \n",
    "import glob\n",
    "\n",
    "\n",
    "import numpy as np\n",
    "import xarray as xr\n",
    "import time\n",
    "\n",
    "import numpy.ma as ma\n",
    "\n",
    "import matplotlib.cm as mplcm\n",
    "import matplotlib.pyplot as plt\n",
    "\n",
    "import cartopy.crs as ccrs\n",
    "import matplotlib.ticker as mticker\n",
    "from cartopy.mpl.gridliner import LONGITUDE_FORMATTER, LATITUDE_FORMATTER\n",
    "import cartopy.feature as cfeature\n",
    "\n",
    "%matplotlib inline\n"
   ]
  },
  {
   "cell_type": "markdown",
   "metadata": {},
   "source": [
    "## 1. Data "
   ]
  },
  {
   "cell_type": "markdown",
   "metadata": {},
   "source": [
    "### eNATL60"
   ]
  },
  {
   "cell_type": "code",
   "execution_count": 3,
   "metadata": {},
   "outputs": [],
   "source": [
    "ssh_std_eNATL60=xr.open_dataset('/Users/auraoupa/Data/SSH-AVISO-eNATL60/eNATL60-BLBT02_std-ssh_1d.nc',chunks={'x':500,'y':500})\n",
    "ssh_mean_eNATL60=xr.open_dataset('/Users/auraoupa/Data/SSH-AVISO-eNATL60/eNATL60-BLBT02_mean-ssh_1d.nc',chunks={'x':500,'y':500})\n",
    "grid_eNATL6O=xr.open_dataset('/Users/auraoupa/Data/SSH-AVISO-eNATL60/mask_eNATL60_3.6_lev1.nc',chunks={'x':500,'y':500})"
   ]
  },
  {
   "cell_type": "markdown",
   "metadata": {},
   "source": [
    "### AVISO"
   ]
  },
  {
   "cell_type": "code",
   "execution_count": 4,
   "metadata": {},
   "outputs": [],
   "source": [
    "ssh_std_AVISO=xr.open_dataset('/Users/auraoupa/Data/SSH-AVISO-eNATL60/AVISO_y2009m06d30-y2010m10d29_std-ssh.nc',chunks={'latitude':500,'longitude':500})\n",
    "ssh_mean_AVISO=xr.open_dataset('/Users/auraoupa/Data/SSH-AVISO-eNATL60/AVISO_y2009m06d30-y2010m10d29_mean-ssh.nc',chunks={'latitude':500,'longitude':500})\n",
    "grid_AVISO=xr.open_dataset('/Users/auraoupa/Data/SSH-AVISO-eNATL60/dt_global_allsat_phy_l4_20101225_20190101.nc',chunks={'latitude':500,'longitude':500})"
   ]
  },
  {
   "cell_type": "markdown",
   "metadata": {},
   "source": [
    "## 2. Some functions"
   ]
  },
  {
   "cell_type": "code",
   "execution_count": 5,
   "metadata": {},
   "outputs": [],
   "source": [
    "# normalization\n",
    "def normalize(data=None,lat=None,lon=None): # not clean : not area weighted\n",
    "    # data is a masked array, \n",
    "    # lat, lon can be xr.dataarray\n",
    "    alon = np.mod( lon + 180,360) - 180\n",
    "    alat = np.array(lat)\n",
    "    condition =     (alat >10) * (alat <65) * (alon >-97) * (alon < 40)\n",
    "    refvalue = np.mean(data[np.where(condition)])\n",
    "    return data - refvalue"
   ]
  },
  {
   "cell_type": "markdown",
   "metadata": {},
   "source": [
    "## 3. Maps of RMSSSH"
   ]
  },
  {
   "cell_type": "code",
   "execution_count": null,
   "metadata": {},
   "outputs": [],
   "source": [
    "fig=plt.figure(figsize=(22,18))\n",
    "ax = fig.add_subplot(211,projection=ccrs.PlateCarree())\n",
    "ax.set_extent([-6, 10, 35, 45])\n",
    "\n",
    "pcolor=ax.pcolormesh(grid_AVISO.longitude,grid_AVISO.latitude,ssh_std_AVISO.std_sossheig,transform=ccrs.PlateCarree(),cmap=mplcm.YlGnBu,vmin=0,vmax=0.2)\n",
    "\n",
    "contour=ax.contour(grid_AVISO.longitude,grid_AVISO.latitude,ssh_mean_AVISO.mean_sossheig,np.arange(-1,1,0.1),colors='k',alpha=0.5,linewidth=0.0001,antialiased=True)\n",
    "\n",
    "ax.add_feature(cfeature.LAND,facecolor='grey')\n",
    "#ax.coastlines()\n",
    "gl=ax.gridlines(crs=ccrs.PlateCarree(), draw_labels=True,linewidth=2, color='gray', alpha=0.5, linestyle='--')\n",
    "\n",
    "fig.subplots_adjust(right=0.8)\n",
    "gl.xformatter = LONGITUDE_FORMATTER\n",
    "gl.yformatter = LATITUDE_FORMATTER\n",
    "gl.xlabel_style = {'size': 15, 'color': 'black'}\n",
    "gl.ylabel_style = {'size': 15, 'color': 'black'}\n",
    "gl.xlabels_top = False\n",
    "gl.ylabels_right = False\n",
    "\n",
    "cbar = plt.colorbar(pcolor,orientation='vertical',shrink=0.75,label='m')\n",
    "ax.text(0.75, 0.1, 'AVISO',fontsize=18, color='white', transform=ax.transAxes)\n",
    "#ax.set_title('AVISO',size=15,y=1.05)\n",
    "\n",
    "ax = fig.add_subplot(212,projection=ccrs.PlateCarree(central_longitude=-30))\n",
    "ax.set_extent([-6, 10, 35, 45])\n",
    "\n",
    "mask=np.squeeze(grid_eNATL6O.tmask)\n",
    "data_ma=np.ma.masked_where(1-mask,ssh_std_eNATL60.std_sossheig)\n",
    "pcolor=ax.pcolormesh(grid_eNATL6O.nav_lon,grid_eNATL6O.nav_lat,data_ma,transform=ccrs.PlateCarree(),cmap=mplcm.YlGnBu,vmin=0,vmax=0.2)\n",
    "\n",
    "data_ma=np.ma.masked_where(1-mask,ssh_mean_eNATL60.mean_sossheig)\n",
    "\n",
    "contour=ax.contour(grid_eNATL6O.nav_lon, grid_eNATL6O.nav_lat,data_ma,np.arange(-1,1,0.1),transform=ccrs.PlateCarree(),colors='k',alpha=0.5,linewidth=0.0001,antialiased=True)\n",
    "\n",
    "ax.add_feature(cfeature.LAND,facecolor='grey')\n",
    "#ax.coastlines()\n",
    "gl=ax.gridlines(crs=ccrs.PlateCarree(), draw_labels=True,linewidth=2, color='gray', alpha=0.5, linestyle='--')\n",
    "\n",
    "fig.subplots_adjust(right=0.8)\n",
    "gl.xformatter = LONGITUDE_FORMATTER\n",
    "gl.yformatter = LATITUDE_FORMATTER\n",
    "gl.xlabel_style = {'size': 15, 'color': 'black'}\n",
    "gl.ylabel_style = {'size': 15, 'color': 'black'}\n",
    "gl.xlabels_top = False\n",
    "gl.ylabels_right = False\n",
    "\n",
    "cbar = plt.colorbar(pcolor,orientation='vertical',shrink=0.75,label='m')\n",
    "ax.text(0.75, 0.1, 'eNATL60',fontsize=15, color='white',transform=ax.transAxes)\n",
    "#ax.set_title('eNATL60',size=15,y=1.05)\n",
    "\n",
    "\n",
    "#plt.suptitle('Standart deviation of SSH over 30/06/2009-30/10/2010 period, contours = Mean SSH',size=18,y=0.95,x=0.45)\n",
    "\n",
    "plt.savefig('std-mean-SSH-AVISO-eNATL60-BLBT02-MEDWEST_no-titles.png',bbox_inches='tight',dpi=300)"
   ]
  },
  {
   "cell_type": "code",
   "execution_count": null,
   "metadata": {},
   "outputs": [],
   "source": []
  }
 ],
 "metadata": {
  "kernelspec": {
   "display_name": "pangeo_cloud",
   "language": "python",
   "name": "pangeo-cloud"
  },
  "language_info": {
   "codemirror_mode": {
    "name": "ipython",
    "version": 3
   },
   "file_extension": ".py",
   "mimetype": "text/x-python",
   "name": "python",
   "nbconvert_exporter": "python",
   "pygments_lexer": "ipython3",
   "version": "3.6.7"
  }
 },
 "nbformat": 4,
 "nbformat_minor": 2
}
