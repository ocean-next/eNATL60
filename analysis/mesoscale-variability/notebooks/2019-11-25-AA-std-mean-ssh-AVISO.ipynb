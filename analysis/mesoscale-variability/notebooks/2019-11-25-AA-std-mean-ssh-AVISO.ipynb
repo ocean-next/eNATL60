{
 "cells": [
  {
   "cell_type": "markdown",
   "metadata": {},
   "source": [
    "# Maps of RMSSSH"
   ]
  },
  {
   "cell_type": "code",
   "execution_count": 13,
   "metadata": {},
   "outputs": [
    {
     "data": {
      "text/html": [
       "<table style=\"border: 2px solid white;\">\n",
       "<tr>\n",
       "<td style=\"vertical-align: top; border: 0px solid white\">\n",
       "<h3>Client</h3>\n",
       "<ul>\n",
       "  <li><b>Scheduler: </b>tcp://172.30.100.1:46821\n",
       "  <li><b>Dashboard: </b><a href='http://172.30.100.1:34971/status' target='_blank'>http://172.30.100.1:34971/status</a>\n",
       "</ul>\n",
       "</td>\n",
       "<td style=\"vertical-align: top; border: 0px solid white\">\n",
       "<h3>Cluster</h3>\n",
       "<ul>\n",
       "  <li><b>Workers: </b>0</li>\n",
       "  <li><b>Cores: </b>0</li>\n",
       "  <li><b>Memory: </b>0 B</li>\n",
       "</ul>\n",
       "</td>\n",
       "</tr>\n",
       "</table>"
      ],
      "text/plain": [
       "<Client: scheduler='tcp://172.30.100.1:46821' processes=0 cores=0>"
      ]
     },
     "execution_count": 13,
     "metadata": {},
     "output_type": "execute_result"
    }
   ],
   "source": [
    "from dask_jobqueue import SLURMCluster \n",
    "from dask.distributed import Client \n",
    "  \n",
    "cluster = SLURMCluster(cores=28,name='make_profiles',walltime='00:30:00',job_extra=['--constraint=HSW24','--exclusive','--nodes=1'],memory='120GB',interface='ib0') \n",
    "cluster.scale(196)\n",
    "cluster\n",
    "\n",
    "from dask.distributed import Client\n",
    "client = Client(cluster)\n",
    "client\n",
    "\n"
   ]
  },
  {
   "cell_type": "code",
   "execution_count": 14,
   "metadata": {},
   "outputs": [
    {
     "name": "stdout",
     "output_type": "stream",
     "text": [
      "             JOBID PARTITION     NAME     USER ST       TIME  NODES NODELIST(REASON)\n",
      "           8182198     hsw24 make_pro albert7a CG      27:14      1 n2642\n",
      "           8182199     hsw24 make_pro albert7a CG      27:14      1 n2650\n",
      "           8182193     hsw24 make_pro albert7a CG      28:16      1 n2764\n",
      "           8182584     hsw24 make_pro albert7a PD       0:00      1 (Priority)\n",
      "           8182585     hsw24 make_pro albert7a PD       0:00      1 (Priority)\n",
      "           8182586     hsw24 make_pro albert7a PD       0:00      1 (Priority)\n",
      "           8182587     hsw24 make_pro albert7a PD       0:00      1 (Priority)\n",
      "           8182588     hsw24 make_pro albert7a PD       0:00      1 (Priority)\n",
      "           8182589     hsw24 make_pro albert7a PD       0:00      1 (Priority)\n",
      "           8182590     hsw24 make_pro albert7a PD       0:00      1 (Priority)\n",
      "           8182351     hsw24 make_pro albert7a  R       1:47      1 n2167\n",
      "           8182350     hsw24 make_pro albert7a  R       2:31      1 n2094\n",
      "           8182349     hsw24 make_pro albert7a  R       4:21      1 n2401\n",
      "           8182197     hsw24 make_pro albert7a  R      28:09      1 n2773\n",
      "           8182194     hsw24 make_pro albert7a  R      28:21      1 n2765\n",
      "           8182195     hsw24 make_pro albert7a  R      28:21      1 n2771\n",
      "           8182196     hsw24 make_pro albert7a  R      28:21      1 n2772\n",
      "           8182348     hsw24 make_pro albert7a  R      13:24      1 n2651\n",
      "           8182347     hsw24 make_pro albert7a  R      13:36      1 n2743\n",
      "           8182346     hsw24 make_pro albert7a  R      14:01      1 n2187\n",
      "           8182345     hsw24 make_pro albert7a  R      14:49      1 n2403\n",
      "36\n"
     ]
    }
   ],
   "source": [
    "!squeue -u albert7a\n",
    "\n",
    "import time\n",
    "nb_workers = 0\n",
    "while True:\n",
    "    nb_workers = len(client.scheduler_info()[\"workers\"])\n",
    "    if nb_workers >= 2:\n",
    "        break\n",
    "    time.sleep(1)\n",
    "print(nb_workers)"
   ]
  },
  {
   "cell_type": "markdown",
   "metadata": {},
   "source": [
    "## 0. Modules and libraries"
   ]
  },
  {
   "cell_type": "code",
   "execution_count": 15,
   "metadata": {},
   "outputs": [],
   "source": [
    "import warnings\n",
    "warnings.filterwarnings(\"ignore\")\n",
    "import dask \n",
    "import numpy as np\n",
    "import xarray as xr\n",
    "import time\n",
    "import numpy.ma as ma\n",
    "import matplotlib.cm as mplcm\n",
    "import matplotlib.pyplot as plt\n",
    "import cartopy.crs as ccrs\n",
    "import matplotlib.ticker as mticker\n",
    "import os \n",
    "import time \n",
    "import glob\n",
    "\n",
    "import zarr\n",
    "\n",
    "%matplotlib inline\n"
   ]
  },
  {
   "cell_type": "markdown",
   "metadata": {},
   "source": [
    "## 1. Data "
   ]
  },
  {
   "cell_type": "markdown",
   "metadata": {},
   "source": [
    "### AVISO"
   ]
  },
  {
   "cell_type": "code",
   "execution_count": 16,
   "metadata": {},
   "outputs": [],
   "source": [
    "files_aviso = !ls /scratch/cnt0024/hmg2840/albert7a/AVISO/dt_global_allsat_phy_l4_20*20190101.nc\n",
    "aviso_local = xr.open_mfdataset(files_aviso,chunks={'latitude':700,'longitude':1000})\n"
   ]
  },
  {
   "cell_type": "code",
   "execution_count": 17,
   "metadata": {},
   "outputs": [],
   "source": [
    "aviso_year = aviso_local.sel(time=slice('2009-06-30','2010-10-29'))\n",
    "myadt = aviso_year.adt\n",
    "rms_ssh = myadt.std(dim='time')\n",
    "aviso_mssh = myadt.mean(dim='time') - myadt.mean()\n"
   ]
  },
  {
   "cell_type": "code",
   "execution_count": 18,
   "metadata": {
    "scrolled": false
   },
   "outputs": [],
   "source": [
    "std_dataset=rms_ssh.to_dataset(name='std_sossheig')\n",
    "std_dataset['std_sossheig'].attrs=myadt.attrs\n",
    "std_dataset['std_sossheig'].attrs['standard_name']='standart deviation of ssh'\n",
    "std_dataset['std_sossheig'].attrs['long_name']='standart deviation of sea surface height'\n",
    "std_dataset.attrs['global_attribute']= 'standart deviation of ssh computed on occigen '\n",
    "std_dataset.to_netcdf(path='/scratch/cnt0024/hmg2840/albert7a/AVISO/AVISO_y2009m06d30-y2010m10d29_std-ssh.nc',mode='w')"
   ]
  },
  {
   "cell_type": "code",
   "execution_count": 19,
   "metadata": {},
   "outputs": [],
   "source": [
    "mean_ssh_eNATL60=aviso_mssh.to_dataset(name='mean_sossheig')\n",
    "mean_ssh_eNATL60['mean_sossheig'].attrs=myadt.attrs\n",
    "mean_ssh_eNATL60['mean_sossheig'].attrs['standard_name']='temporal mean of ssh'\n",
    "mean_ssh_eNATL60['mean_sossheig'].attrs['long_name']='temporal mean of sea surface height'\n",
    "mean_ssh_eNATL60.attrs['global_attribute']= 'temporal mean of ssh computed on occigen '\n",
    "mean_ssh_eNATL60.to_netcdf(path='/scratch/cnt0024/hmg2840/albert7a/AVISO/AVISO_y2009m06d30-y2010m10d29_mean-ssh.nc',mode='w')"
   ]
  }
 ],
 "metadata": {
  "kernelspec": {
   "display_name": "Python 3",
   "language": "python",
   "name": "python3"
  },
  "language_info": {
   "codemirror_mode": {
    "name": "ipython",
    "version": 3
   },
   "file_extension": ".py",
   "mimetype": "text/x-python",
   "name": "python",
   "nbconvert_exporter": "python",
   "pygments_lexer": "ipython3",
   "version": "3.7.3"
  }
 },
 "nbformat": 4,
 "nbformat_minor": 2
}
